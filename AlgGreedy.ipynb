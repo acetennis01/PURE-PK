{
 "cells": [
  {
   "cell_type": "markdown",
   "id": "a796c0e7",
   "metadata": {},
   "source": [
    "AlgGreedy"
   ]
  },
  {
   "cell_type": "raw",
   "id": "7b375004",
   "metadata": {},
   "source": [
    "Input: set of goods G, set of valuation functions vi, and integer r\n",
    "Output: allocation of Goods\n",
    "\n",
    "AlgGreedy(G, {v}, r):\n",
    "    allocs <- initialize a list of sets, one for each agent\n",
    "    r <- floor(k/(num of agents))\n",
    "    for each agent\n",
    "        allocs[agent] <- Maximize(G, vi, r)\n",
    "    \n",
    "    all_alloc <- union(allocs)\n",
    "    \n",
    "    ret all_alloc\n"
   ]
  },
  {
   "cell_type": "code",
   "execution_count": 1,
   "id": "cd0301ad",
   "metadata": {},
   "outputs": [],
   "source": [
    "def AlgGreedy(G, val_funcs, k):\n",
    "    n = len(val_funcs)\n",
    "    r = k // n\n",
    "    \n",
    "    allocs = {}\n",
    "    \n",
    "    for i in range(n):\n",
    "        allocs[i] = maximize(G, val_func(i), r)\n",
    "    \n",
    "    all_alloc = set().union(*allocs.values())\n",
    "    return all_alloc\n",
    "    "
   ]
  },
  {
   "cell_type": "code",
   "execution_count": null,
   "id": "46a43bae",
   "metadata": {},
   "outputs": [],
   "source": []
  }
 ],
 "metadata": {
  "kernelspec": {
   "display_name": "Python 3 (ipykernel)",
   "language": "python",
   "name": "python3"
  },
  "language_info": {
   "codemirror_mode": {
    "name": "ipython",
    "version": 3
   },
   "file_extension": ".py",
   "mimetype": "text/x-python",
   "name": "python",
   "nbconvert_exporter": "python",
   "pygments_lexer": "ipython3",
   "version": "3.9.12"
  }
 },
 "nbformat": 4,
 "nbformat_minor": 5
}
