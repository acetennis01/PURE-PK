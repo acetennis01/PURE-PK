{
 "cells": [
  {
   "cell_type": "code",
   "execution_count": 8,
   "id": "d0063d35",
   "metadata": {},
   "outputs": [
    {
     "name": "stdout",
     "output_type": "stream",
     "text": [
      "Max Utility: 250.0\n",
      "Goods Chosen: [6, 8, 9, 10, 11, 12, 14, 15, 18, 22, 23]\n"
     ]
    }
   ],
   "source": [
    "import numpy as np\n",
    "\n",
    "def dp(G, num_goods_chosen):\n",
    "    num_agents, total_goods = G.shape\n",
    "\n",
    "    T = np.zeros((total_goods + 1, num_goods_chosen + 1))\n",
    "\n",
    "    goods_chosen = np.zeros((total_goods + 1, num_goods_chosen + 1), dtype=int)\n",
    "\n",
    "    for i in range(1, total_goods + 1):\n",
    "        for j in range(1, num_goods_chosen + 1):\n",
    "            T[i][j] = T[i-1][j]\n",
    "            \n",
    "            if j > 0:\n",
    "                val_sum = sum(G[:, i-1])\n",
    "                if T[i-1][j-1] + val_sum > T[i][j]:\n",
    "                    T[i][j] = T[i-1][j-1] + val_sum\n",
    "                    goods_chosen[i][j] = 1\n",
    "\n",
    "    chosen_goods = []\n",
    "    j = num_goods_chosen\n",
    "    for i in range(total_goods, 0, -1):\n",
    "        if goods_chosen[i][j] == 1:\n",
    "            chosen_goods.append(i)\n",
    "            j -= 1\n",
    "\n",
    "    chosen_goods.reverse()\n",
    "    max_utility = T[total_goods][num_goods_chosen]\n",
    "    return max_utility, chosen_goods\n",
    "\n",
    "rows = 10\n",
    "cols = 25\n",
    "array_2d = np.random.randint(5, size=(rows, cols))\n",
    "num_goods_chosen = 11\n",
    "utility, goods_chosen = dp(array_2d, num_goods_chosen)\n",
    "\n",
    "print(\"Max Utility:\", utility)\n",
    "print(\"Goods Chosen:\", goods_chosen)\n"
   ]
  },
  {
   "cell_type": "code",
   "execution_count": 7,
   "id": "0fc78387",
   "metadata": {},
   "outputs": [],
   "source": [
    "    # G is the matrix of valuations where each row is an agent and each column is a good\n",
    "    # num_goods_chosen is the number of goods we want to select\n",
    "\n",
    "    # Initialize the DP table\n",
    "    # T[i][j] will store the maximum utility that can be achieved with the first i goods and choosing exactly j goods\n",
    "\n",
    "    # Auxiliary array to track the chosen goods\n",
    "\n",
    "    # Populate the DP table\n",
    "            # Option 1: Do not choose the i-th good\n",
    "            \n",
    "            # Option 2: Choose the i-th good if j > 0\n",
    "                # Sum the valuations for choosing this good across all agents\n",
    "\n",
    "    # Backtrack to find the chosen goods\n",
    "    \n",
    "    # Reverse to maintain the original order"
   ]
  },
  {
   "cell_type": "code",
   "execution_count": null,
   "id": "2872ce84",
   "metadata": {},
   "outputs": [],
   "source": []
  }
 ],
 "metadata": {
  "kernelspec": {
   "display_name": "Python 3 (ipykernel)",
   "language": "python",
   "name": "python3"
  },
  "language_info": {
   "codemirror_mode": {
    "name": "ipython",
    "version": 3
   },
   "file_extension": ".py",
   "mimetype": "text/x-python",
   "name": "python",
   "nbconvert_exporter": "python",
   "pygments_lexer": "ipython3",
   "version": "3.9.12"
  }
 },
 "nbformat": 4,
 "nbformat_minor": 5
}
