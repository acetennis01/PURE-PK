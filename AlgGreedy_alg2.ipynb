{
 "cells": [
  {
   "cell_type": "code",
   "execution_count": 5,
   "id": "b8a8218c",
   "metadata": {},
   "outputs": [],
   "source": [
    "import numpy as np"
   ]
  },
  {
   "cell_type": "code",
   "execution_count": 6,
   "id": "109afda9",
   "metadata": {},
   "outputs": [],
   "source": [
    "def alg2(G, k):\n",
    "    R = [i for i in range(len(G[0]))]\n",
    "    X = []\n",
    "    for i in range(k):\n",
    "        prod = 1\n",
    "        for a in range(len(G)):\n",
    "            prod *= G[a][0] + 1\n",
    "        max_good = (R[0], prod)\n",
    "        for j in range(1, len(R)):\n",
    "            prod = 1\n",
    "            for a in range(len(G)):\n",
    "                prod *= G[a][R[j]] + 1\n",
    "            if max_good[1] < prod:\n",
    "                max_good = (R[j], prod)\n",
    "        \n",
    "        R.remove(max_good[0])\n",
    "        X.append(max_good[0])\n",
    "\n",
    "    return X\n"
   ]
  },
  {
   "cell_type": "code",
   "execution_count": 46,
   "id": "98a83139",
   "metadata": {},
   "outputs": [],
   "source": [
    "def sum_curr(X, G, a):\n",
    "    ret = 0\n",
    "    for x in X:\n",
    "        ret += G[a][x]\n",
    "    \n",
    "    return ret"
   ]
  },
  {
   "cell_type": "code",
   "execution_count": 47,
   "id": "5e1ff608",
   "metadata": {},
   "outputs": [],
   "source": [
    "def alg2_fix(G, k):\n",
    "    R = [i for i in range(len(G[0]))]\n",
    "    X = []\n",
    "    c = 0\n",
    "    for i in range(k):\n",
    "        prod = 1\n",
    "        #argmax_(g in R)(pi_(i in N(agents)) v_i(g + x) + 1)\n",
    "        for a in range(len(G)):\n",
    "            prod *= (G[a][0] + sum_curr(X, G, a) + 1)**(1/len(G))\n",
    "        max_good = (R[0], prod)\n",
    "        for j in range(1, len(R)):\n",
    "            prod = 1\n",
    "            for a in range(len(G)):\n",
    "                prod *= (G[a][R[j]] + sum_curr(X, G, a) + 1)**(1/len(G))\n",
    "        \n",
    "            if max_good[1] < prod:\n",
    "                max_good = (R[j], prod)\n",
    "                \n",
    "        R.remove(max_good[0])\n",
    "        X.append(max_good[0])\n",
    "\n",
    "    return X\n"
   ]
  },
  {
   "cell_type": "code",
   "execution_count": 48,
   "id": "41e03532",
   "metadata": {},
   "outputs": [],
   "source": [
    "def nw(goods, rows, cols):\n",
    "    mask = [0] * cols\n",
    "\n",
    "    for i in range(len(goods)):\n",
    "        mask[goods[i]] = 1\n",
    "\n",
    "    mask = np.asarray(mask)\n",
    "\n",
    "    nsw = 1\n",
    "    for agent in range(rows):\n",
    "        nsw = nsw * (np.dot(mask, array_2d[agent]) + 1)\n",
    "\n",
    "    nsw = nsw ** (1/rows)\n",
    "    return nsw"
   ]
  },
  {
   "cell_type": "code",
   "execution_count": 51,
   "id": "7216aad0",
   "metadata": {},
   "outputs": [
    {
     "name": "stdout",
     "output_type": "stream",
     "text": [
      "old: 24.331667621641753 new: 24.492524984925478\n"
     ]
    }
   ],
   "source": [
    "rows = 10\n",
    "cols = 25\n",
    "array_2d = np.random.randint(5, size=(rows, cols))\n",
    "goods = alg2(array_2d, 11)\n",
    "goods2 = alg2_fix(array_2d, 11)\n",
    "nw1 = nw(goods, rows, cols)\n",
    "nw2 = nw(goods2, rows, cols)\n",
    "print(\"old: \" + str(nw1) + \" new: \" + str(nw2))"
   ]
  },
  {
   "cell_type": "code",
   "execution_count": 35,
   "id": "1bfb66bd",
   "metadata": {},
   "outputs": [
    {
     "name": "stdout",
     "output_type": "stream",
     "text": [
      "old: 22.94756695571058 new: 24.662214813663535\n"
     ]
    }
   ],
   "source": [
    "nw1 = nw(goods, rows, cols)\n",
    "nw2 = nw(goods2, rows, cols)\n",
    "print(\"old: \" + str(nw1) + \" new: \" + str(nw2))"
   ]
  },
  {
   "cell_type": "code",
   "execution_count": null,
   "id": "1404e5d7",
   "metadata": {},
   "outputs": [],
   "source": [
    "tmp = [_ for _ in range(len(nw1))]"
   ]
  }
 ],
 "metadata": {
  "kernelspec": {
   "display_name": "Python 3 (ipykernel)",
   "language": "python",
   "name": "python3"
  },
  "language_info": {
   "codemirror_mode": {
    "name": "ipython",
    "version": 3
   },
   "file_extension": ".py",
   "mimetype": "text/x-python",
   "name": "python",
   "nbconvert_exporter": "python",
   "pygments_lexer": "ipython3",
   "version": "3.9.12"
  }
 },
 "nbformat": 4,
 "nbformat_minor": 5
}
