{
 "cells": [
  {
   "cell_type": "code",
   "execution_count": 3,
   "id": "b8a8218c",
   "metadata": {},
   "outputs": [],
   "source": [
    "import numpy as np"
   ]
  },
  {
   "cell_type": "code",
   "execution_count": 4,
   "id": "109afda9",
   "metadata": {},
   "outputs": [],
   "source": [
    "def alg2(G, k):\n",
    "    R = [i for i in range(len(G[0]))]\n",
    "    X = []\n",
    "    for i in range(k):\n",
    "        prod = 1\n",
    "        for a in range(len(G)):\n",
    "            prod *= G[a][0] + 1\n",
    "        max_good = (R[0], prod)\n",
    "        for j in range(1, len(R)):\n",
    "            prod = 1\n",
    "            for a in range(len(G)):\n",
    "                prod *= G[a][R[j]] + 1\n",
    "            if max_good[1] < prod:\n",
    "                max_good = (R[j], prod)\n",
    "        \n",
    "        R.remove(max_good[0])\n",
    "        X.append(max_good[0])\n",
    "\n",
    "    return X\n"
   ]
  },
  {
   "cell_type": "code",
   "execution_count": 5,
   "id": "d7b923f7",
   "metadata": {},
   "outputs": [
    {
     "data": {
      "text/plain": [
       "[5, 10, 18, 3, 22, 16, 6, 24, 7, 0, 1]"
      ]
     },
     "execution_count": 5,
     "metadata": {},
     "output_type": "execute_result"
    }
   ],
   "source": [
    "rows = 10\n",
    "cols = 25\n",
    "array_2d = np.random.randint(5, size=(rows, cols))\n",
    "alg2(array_2d, 11)"
   ]
  },
  {
   "cell_type": "code",
   "execution_count": null,
   "id": "8f475c37",
   "metadata": {},
   "outputs": [],
   "source": []
  },
  {
   "cell_type": "code",
   "execution_count": null,
   "id": "c292664e",
   "metadata": {},
   "outputs": [],
   "source": []
  }
 ],
 "metadata": {
  "kernelspec": {
   "display_name": "Python 3 (ipykernel)",
   "language": "python",
   "name": "python3"
  },
  "language_info": {
   "codemirror_mode": {
    "name": "ipython",
    "version": 3
   },
   "file_extension": ".py",
   "mimetype": "text/x-python",
   "name": "python",
   "nbconvert_exporter": "python",
   "pygments_lexer": "ipython3",
   "version": "3.9.12"
  }
 },
 "nbformat": 4,
 "nbformat_minor": 5
}
