{
 "cells": [
  {
   "cell_type": "code",
   "execution_count": 1,
   "id": "b8a8218c",
   "metadata": {},
   "outputs": [],
   "source": [
    "import numpy as np"
   ]
  },
  {
   "cell_type": "code",
   "execution_count": 2,
   "id": "109afda9",
   "metadata": {},
   "outputs": [],
   "source": [
    "def alg2(G, k):\n",
    "    R = [i for i in range(len(G[0]))]\n",
    "    X = []\n",
    "    for i in range(k):\n",
    "        prod = 1\n",
    "        for a in range(len(G)):\n",
    "            prod *= G[a][0] + 1\n",
    "        max_good = (R[0], prod)\n",
    "        for j in range(1, len(R)):\n",
    "            prod = 1\n",
    "            for a in range(len(G)):\n",
    "                prod *= G[a][R[j]] + 1\n",
    "            if max_good[1] < prod:\n",
    "                max_good = (R[j], prod)\n",
    "        \n",
    "        R.remove(max_good[0])\n",
    "        X.append(max_good[0])\n",
    "\n",
    "    return X\n"
   ]
  },
  {
   "cell_type": "code",
   "execution_count": 10,
   "id": "d7b923f7",
   "metadata": {},
   "outputs": [],
   "source": [
    "rows = 10\n",
    "cols = 25\n",
    "array_2d = np.random.randint(5, size=(rows, cols))\n",
    "goods = alg2(array_2d, 11)"
   ]
  },
  {
   "cell_type": "code",
   "execution_count": 11,
   "id": "8f475c37",
   "metadata": {},
   "outputs": [
    {
     "data": {
      "text/plain": [
       "array([[0, 2, 0, 2, 1, 3, 0, 3, 4, 4, 4, 4, 4, 3, 0, 0, 0, 4, 0, 0, 2, 4,\n",
       "        0, 2, 4],\n",
       "       [0, 2, 0, 2, 0, 1, 3, 2, 2, 3, 0, 3, 4, 3, 0, 3, 1, 2, 0, 0, 0, 3,\n",
       "        4, 2, 3],\n",
       "       [3, 0, 4, 3, 0, 0, 3, 1, 3, 2, 3, 4, 4, 2, 2, 0, 3, 1, 4, 3, 0, 1,\n",
       "        2, 0, 0],\n",
       "       [4, 0, 0, 0, 3, 0, 1, 4, 1, 3, 2, 2, 0, 3, 1, 4, 3, 1, 3, 0, 3, 2,\n",
       "        1, 4, 1],\n",
       "       [4, 3, 4, 2, 3, 1, 1, 2, 3, 4, 1, 1, 4, 3, 2, 1, 4, 2, 2, 2, 0, 0,\n",
       "        2, 1, 4],\n",
       "       [2, 1, 1, 3, 2, 1, 0, 0, 2, 1, 1, 1, 4, 2, 2, 1, 1, 0, 1, 4, 1, 4,\n",
       "        1, 4, 4],\n",
       "       [4, 4, 1, 0, 0, 3, 3, 1, 1, 3, 0, 3, 3, 2, 3, 1, 3, 4, 4, 4, 3, 1,\n",
       "        3, 4, 2],\n",
       "       [4, 2, 2, 1, 1, 3, 1, 2, 1, 0, 4, 0, 4, 0, 1, 4, 1, 0, 3, 2, 4, 4,\n",
       "        0, 3, 3],\n",
       "       [1, 2, 3, 0, 4, 1, 0, 4, 3, 4, 3, 2, 1, 0, 0, 1, 2, 3, 1, 4, 1, 3,\n",
       "        2, 0, 0],\n",
       "       [3, 2, 4, 0, 4, 4, 4, 4, 3, 0, 1, 3, 3, 2, 1, 3, 4, 4, 1, 4, 0, 2,\n",
       "        1, 1, 4]])"
      ]
     },
     "execution_count": 11,
     "metadata": {},
     "output_type": "execute_result"
    }
   ],
   "source": [
    "array_2d"
   ]
  },
  {
   "cell_type": "code",
   "execution_count": 12,
   "id": "c292664e",
   "metadata": {},
   "outputs": [],
   "source": [
    "mask = [0] * cols\n",
    "\n",
    "for i in range(len(goods)):\n",
    "    mask[goods[i]] = 1\n",
    "    \n",
    "mask = np.asarray(mask)\n",
    "\n",
    "nsw = 1\n",
    "for agent in range(rows):\n",
    "    nsw = nsw * (np.dot(mask, array_2d[agent]) + 1)\n",
    "\n",
    "nsw = nsw ** (1/rows)"
   ]
  },
  {
   "cell_type": "code",
   "execution_count": 13,
   "id": "081c6783",
   "metadata": {},
   "outputs": [
    {
     "data": {
      "text/plain": [
       "23.265206754480825"
      ]
     },
     "execution_count": 13,
     "metadata": {},
     "output_type": "execute_result"
    }
   ],
   "source": [
    "nsw"
   ]
  },
  {
   "cell_type": "code",
   "execution_count": null,
   "id": "5e1ff608",
   "metadata": {},
   "outputs": [],
   "source": []
  }
 ],
 "metadata": {
  "kernelspec": {
   "display_name": "Python 3 (ipykernel)",
   "language": "python",
   "name": "python3"
  },
  "language_info": {
   "codemirror_mode": {
    "name": "ipython",
    "version": 3
   },
   "file_extension": ".py",
   "mimetype": "text/x-python",
   "name": "python",
   "nbconvert_exporter": "python",
   "pygments_lexer": "ipython3",
   "version": "3.9.12"
  }
 },
 "nbformat": 4,
 "nbformat_minor": 5
}
