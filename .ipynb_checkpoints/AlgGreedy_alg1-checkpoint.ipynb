{
 "cells": [
  {
   "cell_type": "code",
   "execution_count": 19,
   "id": "1a17f1da",
   "metadata": {},
   "outputs": [],
   "source": [
    "import numpy as np\n",
    "import heapq"
   ]
  },
  {
   "cell_type": "code",
   "execution_count": 26,
   "id": "4ff47405",
   "metadata": {},
   "outputs": [
    {
     "data": {
      "text/plain": [
       "array([[1, 1, 1, 0, 0, 0, 0, 0, 1, 0],\n",
       "       [1, 0, 0, 0, 0, 1, 1, 1, 1, 1],\n",
       "       [0, 0, 1, 1, 0, 0, 0, 0, 1, 1],\n",
       "       [1, 1, 1, 0, 1, 1, 1, 0, 0, 1],\n",
       "       [0, 1, 0, 1, 1, 0, 0, 1, 1, 1],\n",
       "       [1, 0, 0, 0, 0, 1, 0, 1, 1, 0],\n",
       "       [0, 1, 0, 0, 0, 1, 1, 1, 0, 1],\n",
       "       [1, 1, 1, 1, 0, 0, 0, 0, 0, 0],\n",
       "       [1, 0, 1, 1, 0, 1, 0, 1, 0, 0],\n",
       "       [1, 0, 0, 1, 1, 0, 0, 0, 0, 0]])"
      ]
     },
     "execution_count": 26,
     "metadata": {},
     "output_type": "execute_result"
    }
   ],
   "source": [
    "rows = 10\n",
    "cols = 10 \n",
    "\n",
    "array_2d = np.random.randint(2, size=(rows, cols))\n",
    "array_2d"
   ]
  },
  {
   "cell_type": "code",
   "execution_count": 27,
   "id": "0ceb0c11",
   "metadata": {},
   "outputs": [],
   "source": [
    "def AlgGreedy(G, k):\n",
    "    n = len(G)\n",
    "    r = k // n\n",
    "    allocs = []\n",
    "    for i in range(n):\n",
    "        allocs.append(Maximize(G[i], r))\n",
    "    #all_alloc = set().union(*allocs.values())\n",
    "    print(allocs)"
   ]
  },
  {
   "cell_type": "code",
   "execution_count": 37,
   "id": "8d6d2950",
   "metadata": {},
   "outputs": [],
   "source": [
    "def Maximize(arr, k):\n",
    "    if k >= len(arr):\n",
    "        return list(range(len(arr)))\n",
    "\n",
    "    min_heap = []\n",
    "    print(arr)\n",
    "\n",
    "    for index, value in enumerate(arr):\n",
    "        print(\"length\")\n",
    "        print(len(min_heap))\n",
    "        print(\"min heap\")\n",
    "        print(min_heap)\n",
    "        if len(min_heap) < k:\n",
    "            heapq.heappush(min_heap, (value, index))\n",
    "        elif value > min_heap[0][0]:\n",
    "            print(\"im here\")\n",
    "            heapq.heapreplace(min_heap, (value, index))\n",
    "\n",
    "    indices = [index for _, index in min_heap]\n",
    "\n",
    "    return indices"
   ]
  },
  {
   "cell_type": "code",
   "execution_count": 38,
   "id": "193dee4d",
   "metadata": {},
   "outputs": [
    {
     "name": "stdout",
     "output_type": "stream",
     "text": [
      "[1 1 1 0 0 0 0 0 1 0]\n",
      "length\n",
      "0\n",
      "min heap\n",
      "[]\n"
     ]
    },
    {
     "ename": "IndexError",
     "evalue": "list index out of range",
     "output_type": "error",
     "traceback": [
      "\u001b[0;31m---------------------------------------------------------------------------\u001b[0m",
      "\u001b[0;31mIndexError\u001b[0m                                Traceback (most recent call last)",
      "Input \u001b[0;32mIn [38]\u001b[0m, in \u001b[0;36m<cell line: 1>\u001b[0;34m()\u001b[0m\n\u001b[0;32m----> 1\u001b[0m \u001b[43mAlgGreedy\u001b[49m\u001b[43m(\u001b[49m\u001b[43marray_2d\u001b[49m\u001b[43m,\u001b[49m\u001b[43m \u001b[49m\u001b[38;5;241;43m7\u001b[39;49m\u001b[43m)\u001b[49m\n",
      "Input \u001b[0;32mIn [27]\u001b[0m, in \u001b[0;36mAlgGreedy\u001b[0;34m(G, k)\u001b[0m\n\u001b[1;32m      4\u001b[0m allocs \u001b[38;5;241m=\u001b[39m []\n\u001b[1;32m      5\u001b[0m \u001b[38;5;28;01mfor\u001b[39;00m i \u001b[38;5;129;01min\u001b[39;00m \u001b[38;5;28mrange\u001b[39m(n):\n\u001b[0;32m----> 6\u001b[0m     allocs\u001b[38;5;241m.\u001b[39mappend(\u001b[43mMaximize\u001b[49m\u001b[43m(\u001b[49m\u001b[43mG\u001b[49m\u001b[43m[\u001b[49m\u001b[43mi\u001b[49m\u001b[43m]\u001b[49m\u001b[43m,\u001b[49m\u001b[43m \u001b[49m\u001b[43mr\u001b[49m\u001b[43m)\u001b[49m)\n\u001b[1;32m      7\u001b[0m \u001b[38;5;66;03m#all_alloc = set().union(*allocs.values())\u001b[39;00m\n\u001b[1;32m      8\u001b[0m \u001b[38;5;28mprint\u001b[39m(allocs)\n",
      "Input \u001b[0;32mIn [37]\u001b[0m, in \u001b[0;36mMaximize\u001b[0;34m(arr, k)\u001b[0m\n\u001b[1;32m     13\u001b[0m \u001b[38;5;28;01mif\u001b[39;00m \u001b[38;5;28mlen\u001b[39m(min_heap) \u001b[38;5;241m<\u001b[39m k:\n\u001b[1;32m     14\u001b[0m     heapq\u001b[38;5;241m.\u001b[39mheappush(min_heap, (value, index))\n\u001b[0;32m---> 15\u001b[0m \u001b[38;5;28;01melif\u001b[39;00m value \u001b[38;5;241m>\u001b[39m \u001b[43mmin_heap\u001b[49m\u001b[43m[\u001b[49m\u001b[38;5;241;43m0\u001b[39;49m\u001b[43m]\u001b[49m[\u001b[38;5;241m0\u001b[39m]:\n\u001b[1;32m     16\u001b[0m     \u001b[38;5;28mprint\u001b[39m(\u001b[38;5;124m\"\u001b[39m\u001b[38;5;124mim here\u001b[39m\u001b[38;5;124m\"\u001b[39m)\n\u001b[1;32m     17\u001b[0m     heapq\u001b[38;5;241m.\u001b[39mheapreplace(min_heap, (value, index))\n",
      "\u001b[0;31mIndexError\u001b[0m: list index out of range"
     ]
    }
   ],
   "source": [
    "AlgGreedy(array_2d, 7)"
   ]
  },
  {
   "cell_type": "code",
   "execution_count": null,
   "id": "53a71b82",
   "metadata": {},
   "outputs": [],
   "source": []
  }
 ],
 "metadata": {
  "kernelspec": {
   "display_name": "Python 3 (ipykernel)",
   "language": "python",
   "name": "python3"
  },
  "language_info": {
   "codemirror_mode": {
    "name": "ipython",
    "version": 3
   },
   "file_extension": ".py",
   "mimetype": "text/x-python",
   "name": "python",
   "nbconvert_exporter": "python",
   "pygments_lexer": "ipython3",
   "version": "3.9.12"
  }
 },
 "nbformat": 4,
 "nbformat_minor": 5
}
