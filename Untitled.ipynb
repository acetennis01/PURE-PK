{
 "cells": [
  {
   "cell_type": "code",
   "execution_count": 10,
   "id": "d0063d35",
   "metadata": {},
   "outputs": [
    {
     "name": "stdout",
     "output_type": "stream",
     "text": [
      "Max Utility: 259.0\n",
      "Goods Chosen: [1, 5, 6, 11, 13, 18, 20, 22, 23, 24, 25]\n"
     ]
    }
   ],
   "source": [
    "import numpy as np\n",
    "\n",
    "def dp(G, num_goods_chosen):\n",
    "    # G is the matrix of valuations where each row is an agent and each column is a good\n",
    "    # num_goods_chosen is the number of goods we want to select\n",
    "    num_agents, total_goods = G.shape\n",
    "\n",
    "    # Initialize the DP table\n",
    "    # T[i][j] will store the maximum utility that can be achieved with the first i goods and choosing exactly j goods\n",
    "    T = np.zeros((total_goods + 1, num_goods_chosen + 1))\n",
    "\n",
    "    # Auxiliary array to track the chosen goods\n",
    "    goods_chosen = np.zeros((total_goods + 1, num_goods_chosen + 1), dtype=int)\n",
    "\n",
    "    # Populate the DP table\n",
    "    for i in range(1, total_goods + 1):\n",
    "        for j in range(1, num_goods_chosen + 1):\n",
    "            # Option 1: Do not choose the i-th good\n",
    "            T[i][j] = T[i-1][j]\n",
    "            \n",
    "            # Option 2: Choose the i-th good if j > 0\n",
    "            if j > 0:\n",
    "                # Sum the valuations for choosing this good across all agents\n",
    "                val_sum = sum(G[:, i-1])\n",
    "                if T[i-1][j-1] + val_sum > T[i][j]:\n",
    "                    T[i][j] = T[i-1][j-1] + val_sum\n",
    "                    goods_chosen[i][j] = 1\n",
    "\n",
    "    # Backtrack to find the chosen goods\n",
    "    chosen_goods = []\n",
    "    j = num_goods_chosen\n",
    "    for i in range(total_goods, 0, -1):\n",
    "        if goods_chosen[i][j] == 1:\n",
    "            chosen_goods.append(i)\n",
    "            j -= 1\n",
    "\n",
    "    chosen_goods.reverse()  # Reverse to maintain the original order\n",
    "    max_utility = T[total_goods][num_goods_chosen]\n",
    "    return max_utility, chosen_goods\n",
    "\n",
    "# Example usage:\n",
    "rows = 10  # Number of agents\n",
    "cols = 25  # Number of goods\n",
    "array_2d = np.random.randint(5, size=(rows, cols))  # Random valuations for goods\n",
    "num_goods_chosen = 11  # Number of goods to choose\n",
    "utility, goods_chosen = dp(array_2d, num_goods_chosen)\n",
    "\n",
    "print(\"Max Utility:\", utility)\n",
    "print(\"Goods Chosen:\", goods_chosen)\n"
   ]
  },
  {
   "cell_type": "code",
   "execution_count": null,
   "id": "0fc78387",
   "metadata": {},
   "outputs": [],
   "source": []
  },
  {
   "cell_type": "code",
   "execution_count": null,
   "id": "2872ce84",
   "metadata": {},
   "outputs": [],
   "source": []
  }
 ],
 "metadata": {
  "kernelspec": {
   "display_name": "Python 3 (ipykernel)",
   "language": "python",
   "name": "python3"
  },
  "language_info": {
   "codemirror_mode": {
    "name": "ipython",
    "version": 3
   },
   "file_extension": ".py",
   "mimetype": "text/x-python",
   "name": "python",
   "nbconvert_exporter": "python",
   "pygments_lexer": "ipython3",
   "version": "3.9.12"
  }
 },
 "nbformat": 4,
 "nbformat_minor": 5
}
