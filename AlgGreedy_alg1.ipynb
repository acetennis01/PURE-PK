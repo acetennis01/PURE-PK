{
 "cells": [
  {
   "cell_type": "code",
   "execution_count": 238,
   "id": "d22acf2d",
   "metadata": {},
   "outputs": [],
   "source": [
    "import numpy as np\n",
    "import heapq"
   ]
  },
  {
   "cell_type": "code",
   "execution_count": 240,
   "id": "076ac04d",
   "metadata": {},
   "outputs": [],
   "source": [
    "def AlgGreedy(G, k):\n",
    "    n = len(G)\n",
    "    #print(n)\n",
    "    r = k // n\n",
    "    #print(r)\n",
    "    allocs = []\n",
    "    for i in range(n):\n",
    "        #print(G[i])\n",
    "        allocs.append(Maximize(G[i], r))\n",
    "        #print(Maximize(G[i], r))\n",
    "    all_alloc = allocs[0]\n",
    "    \n",
    "    for i in range(len(allocs)):\n",
    "        all_alloc = list(set(all_alloc) | set(allocs[i]))\n",
    "        #print(all_alloc)\n",
    "    \n",
    "    #all_alloc = set().union(*allocs.values())\n",
    "    #print(allocs)\n",
    "    \n",
    "    return all_alloc"
   ]
  },
  {
   "cell_type": "code",
   "execution_count": 241,
   "id": "c44d5cdd",
   "metadata": {},
   "outputs": [],
   "source": [
    "def Maximize(arr, k):\n",
    "    if k >= len(arr):\n",
    "        return list(range(len(arr)))\n",
    "\n",
    "    min_heap = []\n",
    "\n",
    "    for index, value in enumerate(arr):\n",
    "        if len(min_heap) < k:\n",
    "            heapq.heappush(min_heap, (value, index))\n",
    "        elif value > min_heap[0][0]:\n",
    "            heapq.heapreplace(min_heap, (value, index))\n",
    "\n",
    "    indices = [index for _, index in min_heap]\n",
    "\n",
    "    return indices"
   ]
  },
  {
   "cell_type": "code",
   "execution_count": 296,
   "id": "030f15d2",
   "metadata": {},
   "outputs": [],
   "source": [
    "rows = 10\n",
    "cols = 25\n",
    "array_2d = np.random.randint(5, size=(rows, cols))\n",
    "\n",
    "goods = AlgGreedy(array_2d, 20)"
   ]
  },
  {
   "cell_type": "markdown",
   "id": "b620ae47",
   "metadata": {},
   "source": [
    "NW for AlgGreedy"
   ]
  },
  {
   "cell_type": "code",
   "execution_count": 297,
   "id": "9ee3526c",
   "metadata": {},
   "outputs": [],
   "source": [
    "mask = [0] * cols\n",
    "\n",
    "for i in range(len(goods)):\n",
    "    mask[goods[i]] = 1\n",
    "    \n",
    "mask = np.asarray(mask)\n",
    "\n",
    "nsw = 1\n",
    "for agent in range(rows):\n",
    "    nsw = nsw * (np.dot(mask, array_2d[agent]) + 1)\n",
    "\n",
    "nsw = nsw ** (1/rows)"
   ]
  },
  {
   "cell_type": "code",
   "execution_count": 298,
   "id": "4aae93f9",
   "metadata": {},
   "outputs": [
    {
     "data": {
      "text/plain": [
       "21.29817074874998"
      ]
     },
     "execution_count": 298,
     "metadata": {},
     "output_type": "execute_result"
    }
   ],
   "source": [
    "nsw"
   ]
  }
 ],
 "metadata": {
  "kernelspec": {
   "display_name": "Python 3 (ipykernel)",
   "language": "python",
   "name": "python3"
  },
  "language_info": {
   "codemirror_mode": {
    "name": "ipython",
    "version": 3
   },
   "file_extension": ".py",
   "mimetype": "text/x-python",
   "name": "python",
   "nbconvert_exporter": "python",
   "pygments_lexer": "ipython3",
   "version": "3.9.12"
  }
 },
 "nbformat": 4,
 "nbformat_minor": 5
}
